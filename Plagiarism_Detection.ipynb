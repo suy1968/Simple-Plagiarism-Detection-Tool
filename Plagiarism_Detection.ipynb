{
  "nbformat": 4,
  "nbformat_minor": 0,
  "metadata": {
    "colab": {
      "name": "Plagiarism Detection.ipynb",
      "provenance": []
    },
    "kernelspec": {
      "name": "python3",
      "display_name": "Python 3"
    }
  },
  "cells": [
    {
      "cell_type": "code",
      "metadata": {
        "id": "2ujLsclEQls0",
        "colab_type": "code",
        "colab": {
          "base_uri": "https://localhost:8080/",
          "height": 104
        },
        "outputId": "d7ad83f1-2c5a-42b8-ba2f-af472e7d249e"
      },
      "source": [
        "f1=open(\"doc1.txt\",\"r\")\n",
        "t1=f1.readlines()\n",
        "t1\n"
      ],
      "execution_count": 13,
      "outputs": [
        {
          "output_type": "execute_result",
          "data": {
            "text/plain": [
              "['Data science is an inter-disciplinary field that uses scientific methods, processes, algorithms and systems to extract knowledge and insights\\n',\n",
              " 'from many structural and unstructured data. Data science is related to data mining, machine learning and big data.\\n',\n",
              " \"Because learning data science is hard. It's a combination of hard skills (like learning Python and SQL) and soft skills (like business skills or communication skills) and more.\\n\",\n",
              " 'This is an entry limit that not many students can pass. They got fed up with statistics, or coding, or too many business decisions, and quit.']"
            ]
          },
          "metadata": {
            "tags": []
          },
          "execution_count": 13
        }
      ]
    },
    {
      "cell_type": "code",
      "metadata": {
        "id": "E2hts9qIDl-r",
        "colab_type": "code",
        "colab": {
          "base_uri": "https://localhost:8080/",
          "height": 104
        },
        "outputId": "a9feb68b-4dc5-4159-bb6c-124d55a83b87"
      },
      "source": [
        "f2=open(\"doc2.txt\",\"r\")\n",
        "t2=f2.readlines()\n",
        "t2"
      ],
      "execution_count": 14,
      "outputs": [
        {
          "output_type": "execute_result",
          "data": {
            "text/plain": [
              "['Data science is an inter-disciplinary field that uses scientific methods, processes, algorithms and systems to extract knowledge and insights\\n',\n",
              " 'from many structural and unstructured data. Data science is related to data mining, machine learning and big data.\\n',\n",
              " 'Data science provides meaningful information based on large amounts of complex data or big data. Data science, or data-driven science, combines \\n',\n",
              " 'different fields of work in statistics and computation to interpret data for decision-making purposes.']"
            ]
          },
          "metadata": {
            "tags": []
          },
          "execution_count": 14
        }
      ]
    },
    {
      "cell_type": "code",
      "metadata": {
        "id": "rLeoqkxrDqLd",
        "colab_type": "code",
        "colab": {}
      },
      "source": [
        "import nltk\n"
      ],
      "execution_count": 4,
      "outputs": []
    },
    {
      "cell_type": "code",
      "metadata": {
        "id": "9lrtzf7sDvOV",
        "colab_type": "code",
        "colab": {}
      },
      "source": [
        "string1=''.join(t1)\n",
        "string2=''.join(t2)"
      ],
      "execution_count": 18,
      "outputs": []
    },
    {
      "cell_type": "code",
      "metadata": {
        "id": "7fYsHCvmEeIm",
        "colab_type": "code",
        "colab": {
          "base_uri": "https://localhost:8080/",
          "height": 102
        },
        "outputId": "490f39ea-aab5-45e3-fad1-946673ed79f3"
      },
      "source": [
        "string1"
      ],
      "execution_count": 19,
      "outputs": [
        {
          "output_type": "execute_result",
          "data": {
            "application/vnd.google.colaboratory.intrinsic+json": {
              "type": "string"
            },
            "text/plain": [
              "\"Data science is an inter-disciplinary field that uses scientific methods, processes, algorithms and systems to extract knowledge and insights\\nfrom many structural and unstructured data. Data science is related to data mining, machine learning and big data.\\nBecause learning data science is hard. It's a combination of hard skills (like learning Python and SQL) and soft skills (like business skills or communication skills) and more.\\nThis is an entry limit that not many students can pass. They got fed up with statistics, or coding, or too many business decisions, and quit.\""
            ]
          },
          "metadata": {
            "tags": []
          },
          "execution_count": 19
        }
      ]
    },
    {
      "cell_type": "code",
      "metadata": {
        "id": "PwElQxyYEfOc",
        "colab_type": "code",
        "colab": {
          "base_uri": "https://localhost:8080/",
          "height": 86
        },
        "outputId": "57733b01-2950-4920-bcc0-03cee27d464e"
      },
      "source": [
        "string2"
      ],
      "execution_count": 20,
      "outputs": [
        {
          "output_type": "execute_result",
          "data": {
            "application/vnd.google.colaboratory.intrinsic+json": {
              "type": "string"
            },
            "text/plain": [
              "'Data science is an inter-disciplinary field that uses scientific methods, processes, algorithms and systems to extract knowledge and insights\\nfrom many structural and unstructured data. Data science is related to data mining, machine learning and big data.\\nData science provides meaningful information based on large amounts of complex data or big data. Data science, or data-driven science, combines \\ndifferent fields of work in statistics and computation to interpret data for decision-making purposes.'"
            ]
          },
          "metadata": {
            "tags": []
          },
          "execution_count": 20
        }
      ]
    },
    {
      "cell_type": "code",
      "metadata": {
        "id": "lk3UWLYdEl_H",
        "colab_type": "code",
        "colab": {}
      },
      "source": [
        "sent_t1=string1.split('.')\n",
        "sent_t2=string2.split('.')"
      ],
      "execution_count": 21,
      "outputs": []
    },
    {
      "cell_type": "code",
      "metadata": {
        "id": "__CJbY7HEu0z",
        "colab_type": "code",
        "colab": {
          "base_uri": "https://localhost:8080/",
          "height": 154
        },
        "outputId": "772e11da-f9c3-41f5-e527-a185d4522f11"
      },
      "source": [
        "sent_t1"
      ],
      "execution_count": 22,
      "outputs": [
        {
          "output_type": "execute_result",
          "data": {
            "text/plain": [
              "['Data science is an inter-disciplinary field that uses scientific methods, processes, algorithms and systems to extract knowledge and insights\\nfrom many structural and unstructured data',\n",
              " ' Data science is related to data mining, machine learning and big data',\n",
              " '\\nBecause learning data science is hard',\n",
              " \" It's a combination of hard skills (like learning Python and SQL) and soft skills (like business skills or communication skills) and more\",\n",
              " '\\nThis is an entry limit that not many students can pass',\n",
              " ' They got fed up with statistics, or coding, or too many business decisions, and quit',\n",
              " '']"
            ]
          },
          "metadata": {
            "tags": []
          },
          "execution_count": 22
        }
      ]
    },
    {
      "cell_type": "code",
      "metadata": {
        "id": "_dkJOvnTEydj",
        "colab_type": "code",
        "colab": {
          "base_uri": "https://localhost:8080/",
          "height": 121
        },
        "outputId": "64425e49-e2cf-4abd-cf85-9a360debc022"
      },
      "source": [
        "sent_t2"
      ],
      "execution_count": 23,
      "outputs": [
        {
          "output_type": "execute_result",
          "data": {
            "text/plain": [
              "['Data science is an inter-disciplinary field that uses scientific methods, processes, algorithms and systems to extract knowledge and insights\\nfrom many structural and unstructured data',\n",
              " ' Data science is related to data mining, machine learning and big data',\n",
              " '\\nData science provides meaningful information based on large amounts of complex data or big data',\n",
              " ' Data science, or data-driven science, combines \\ndifferent fields of work in statistics and computation to interpret data for decision-making purposes',\n",
              " '']"
            ]
          },
          "metadata": {
            "tags": []
          },
          "execution_count": 23
        }
      ]
    },
    {
      "cell_type": "code",
      "metadata": {
        "id": "ytOMObmGEzqG",
        "colab_type": "code",
        "colab": {}
      },
      "source": [
        "tejas_list=[]\n",
        "for w in sent_t1:\n",
        "    for y in sent_t2:\n",
        "        if w == y:\n",
        "            tejas_list.append(w)\n",
        "\n",
        "\n",
        "\n",
        "\n",
        "\n"
      ],
      "execution_count": 24,
      "outputs": []
    },
    {
      "cell_type": "code",
      "metadata": {
        "id": "9vg2vhsSFEwI",
        "colab_type": "code",
        "colab": {
          "base_uri": "https://localhost:8080/",
          "height": 87
        },
        "outputId": "677390a2-a5f0-4ae7-d58b-c2e4e0f9be2d"
      },
      "source": [
        "tejas_list"
      ],
      "execution_count": 25,
      "outputs": [
        {
          "output_type": "execute_result",
          "data": {
            "text/plain": [
              "['Data science is an inter-disciplinary field that uses scientific methods, processes, algorithms and systems to extract knowledge and insights\\nfrom many structural and unstructured data',\n",
              " ' Data science is related to data mining, machine learning and big data',\n",
              " '']"
            ]
          },
          "metadata": {
            "tags": []
          },
          "execution_count": 25
        }
      ]
    },
    {
      "cell_type": "code",
      "metadata": {
        "id": "zO2ntIB3FJG9",
        "colab_type": "code",
        "colab": {}
      },
      "source": [
        ""
      ],
      "execution_count": null,
      "outputs": []
    }
  ]
}